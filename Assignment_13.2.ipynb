{
 "cells": [
  {
   "cell_type": "code",
   "execution_count": 1,
   "metadata": {},
   "outputs": [],
   "source": [
    "#Read the following data set:\n",
    "#https://archive.ics.uci.edu/ml/machine-learning-databases/adult/adult.data\n",
    "#Task:\n",
    "#2. Write two basic update queries"
   ]
  },
  {
   "cell_type": "code",
   "execution_count": 2,
   "metadata": {},
   "outputs": [],
   "source": [
    "import pandas as pd\n",
    "import sqlalchemy\n",
    "from sqlalchemy import create_engine"
   ]
  },
  {
   "cell_type": "code",
   "execution_count": 3,
   "metadata": {},
   "outputs": [],
   "source": [
    "adult = pd.read_csv('https://archive.ics.uci.edu/ml/machine-learning-databases/adult/adult.data',header=None)"
   ]
  },
  {
   "cell_type": "code",
   "execution_count": 4,
   "metadata": {},
   "outputs": [
    {
     "name": "stdout",
     "output_type": "stream",
     "text": [
      "<class 'pandas.core.frame.DataFrame'>\n",
      "Int64Index: 3256 entries, 22382 to 8861\n",
      "Data columns (total 15 columns):\n",
      "age               3256 non-null int64\n",
      "workclass         3256 non-null object\n",
      "fnlwgt            3256 non-null int64\n",
      "education         3256 non-null object\n",
      "education-num     3256 non-null int64\n",
      "marital-status    3256 non-null object\n",
      "occupation        3256 non-null object\n",
      "relationship      3256 non-null object\n",
      "race              3256 non-null object\n",
      "sex               3256 non-null object\n",
      "capital-gain      3256 non-null int64\n",
      "capital-loss      3256 non-null int64\n",
      "hours-per-week    3256 non-null int64\n",
      "native-country    3256 non-null object\n",
      "grossincome       3256 non-null object\n",
      "dtypes: int64(6), object(9)\n",
      "memory usage: 407.0+ KB\n"
     ]
    }
   ],
   "source": [
    "adult_sample = adult.sample(frac=0.1)\n",
    "adult_sample.columns=['age', 'workclass', 'fnlwgt','education','education-num','marital-status','occupation',\n",
    "             'relationship','race','sex','capital-gain','capital-loss', 'hours-per-week',\n",
    "                   'native-country','grossincome']\n",
    "adult_sample.info()"
   ]
  },
  {
   "cell_type": "code",
   "execution_count": 6,
   "metadata": {},
   "outputs": [
    {
     "name": "stdout",
     "output_type": "stream",
     "text": [
      "2018-12-03 00:11:18,658 INFO sqlalchemy.engine.base.Engine SELECT CAST('test plain returns' AS VARCHAR(60)) AS anon_1\n",
      "2018-12-03 00:11:18,660 INFO sqlalchemy.engine.base.Engine ()\n",
      "2018-12-03 00:11:18,662 INFO sqlalchemy.engine.base.Engine SELECT CAST('test unicode returns' AS VARCHAR(60)) AS anon_1\n",
      "2018-12-03 00:11:18,663 INFO sqlalchemy.engine.base.Engine ()\n",
      "2018-12-03 00:11:18,677 INFO sqlalchemy.engine.base.Engine PRAGMA table_info(\"adult_sql\")\n",
      "2018-12-03 00:11:18,681 INFO sqlalchemy.engine.base.Engine ()\n",
      "2018-12-03 00:11:18,719 INFO sqlalchemy.engine.base.Engine \n",
      "CREATE TABLE adult_sql (\n",
      "\t\"index\" BIGINT, \n",
      "\tage BIGINT, \n",
      "\tworkclass TEXT, \n",
      "\tfnlwgt BIGINT, \n",
      "\teducation TEXT, \n",
      "\t\"education-num\" BIGINT, \n",
      "\t\"marital-status\" TEXT, \n",
      "\toccupation TEXT, \n",
      "\trelationship TEXT, \n",
      "\trace TEXT, \n",
      "\tsex TEXT, \n",
      "\t\"capital-gain\" BIGINT, \n",
      "\t\"capital-loss\" BIGINT, \n",
      "\t\"hours-per-week\" BIGINT, \n",
      "\t\"native-country\" TEXT, \n",
      "\tgrossincome TEXT\n",
      ")\n",
      "\n",
      "\n",
      "2018-12-03 00:11:18,727 INFO sqlalchemy.engine.base.Engine ()\n",
      "2018-12-03 00:11:18,733 INFO sqlalchemy.engine.base.Engine COMMIT\n",
      "2018-12-03 00:11:18,743 INFO sqlalchemy.engine.base.Engine CREATE INDEX ix_adult_sql_index ON adult_sql (\"index\")\n",
      "2018-12-03 00:11:18,750 INFO sqlalchemy.engine.base.Engine ()\n",
      "2018-12-03 00:11:18,757 INFO sqlalchemy.engine.base.Engine COMMIT\n",
      "2018-12-03 00:11:18,773 INFO sqlalchemy.engine.base.Engine BEGIN (implicit)\n",
      "2018-12-03 00:11:18,879 INFO sqlalchemy.engine.base.Engine INSERT INTO adult_sql (\"index\", age, workclass, fnlwgt, education, \"education-num\", \"marital-status\", occupation, relationship, race, sex, \"capital-gain\", \"capital-loss\", \"hours-per-week\", \"native-country\", grossincome) VALUES (?, ?, ?, ?, ?, ?, ?, ?, ?, ?, ?, ?, ?, ?, ?, ?)\n",
      "2018-12-03 00:11:18,880 INFO sqlalchemy.engine.base.Engine ((22382, 52, ' Private', 164530, ' 11th', 7, ' Divorced', ' Machine-op-inspct', ' Not-in-family', ' Black', ' Female', 0, 0, 20, ' United-States', ' <=50K'), (19768, 63, ' Private', 339755, ' Bachelors', 13, ' Married-civ-spouse', ' Prof-specialty', ' Husband', ' White', ' Male', 0, 0, 50, ' ?', ' >50K'), (31032, 22, ' ?', 219122, ' Some-college', 10, ' Never-married', ' ?', ' Own-child', ' White', ' Male', 0, 0, 40, ' United-States', ' <=50K'), (30551, 45, ' Private', 288437, ' HS-grad', 9, ' Married-civ-spouse', ' Transport-moving', ' Husband', ' Other', ' Male', 4064, 0, 40, ' United-States', ' <=50K'), (32288, 21, ' Private', 67804, ' 9th', 5, ' Never-married', ' Machine-op-inspct', ' Own-child', ' Black', ' Male', 0, 0, 20, ' United-States', ' <=50K'), (4076, 39, ' Self-emp-not-inc', 211785, ' HS-grad', 9, ' Never-married', ' Craft-repair', ' Own-child', ' Black', ' Female', 0, 0, 20, ' United-States', ' <=50K'), (25044, 18, ' ?', 126154, ' Some-college', 10, ' Never-married', ' ?', ' Own-child', ' White', ' Male', 0, 0, 40, ' United-States', ' <=50K'), (20136, 44, ' Private', 377018, ' Assoc-voc', 11, ' Married-civ-spouse', ' Craft-repair', ' Husband', ' White', ' Male', 0, 0, 40, ' United-States', ' >50K')  ... displaying 10 of 3256 total bound parameter sets ...  (13324, 33, ' Private', 388741, ' Some-college', 10, ' Never-married', ' Adm-clerical', ' Unmarried', ' Other', ' Female', 0, 0, 38, ' United-States', ' <=50K'), (8861, 42, ' Private', 266710, ' Some-college', 10, ' Separated', ' Adm-clerical', ' Unmarried', ' Black', ' Female', 0, 0, 41, ' United-States', ' <=50K'))\n",
      "2018-12-03 00:11:18,918 INFO sqlalchemy.engine.base.Engine COMMIT\n"
     ]
    }
   ],
   "source": [
    "engine = create_engine('sqlite:///:memory:', echo=True)\n",
    "adult_sample.to_sql('adult_sql', con=engine)"
   ]
  },
  {
   "cell_type": "code",
   "execution_count": 8,
   "metadata": {},
   "outputs": [
    {
     "name": "stdout",
     "output_type": "stream",
     "text": [
      "2018-12-03 00:14:14,422 INFO sqlalchemy.engine.base.Engine SELECT DISTINCT workclass FROM adult_sql;\n",
      "2018-12-03 00:14:14,427 INFO sqlalchemy.engine.base.Engine ()\n"
     ]
    },
    {
     "data": {
      "text/plain": [
       "[(' Private',),\n",
       " (' ?',),\n",
       " (' Self-emp-not-inc',),\n",
       " (' State-gov',),\n",
       " (' Federal-gov',),\n",
       " (' Local-gov',),\n",
       " (' Self-emp-inc',),\n",
       " (' Without-pay',),\n",
       " (' Never-worked',)]"
      ]
     },
     "execution_count": 8,
     "metadata": {},
     "output_type": "execute_result"
    }
   ],
   "source": [
    "engine.execute('SELECT DISTINCT workclass FROM adult_sql;').fetchall()"
   ]
  },
  {
   "cell_type": "code",
   "execution_count": 12,
   "metadata": {},
   "outputs": [
    {
     "name": "stdout",
     "output_type": "stream",
     "text": [
      "2018-12-03 00:16:43,600 INFO sqlalchemy.engine.base.Engine UPDATE adult_sql SET workclass = \"UNKNOWN\" WHERE workclass = \" ?\";\n",
      "2018-12-03 00:16:43,602 INFO sqlalchemy.engine.base.Engine ()\n",
      "2018-12-03 00:16:43,608 INFO sqlalchemy.engine.base.Engine COMMIT\n"
     ]
    },
    {
     "data": {
      "text/plain": [
       "<sqlalchemy.engine.result.ResultProxy at 0x1851e723a20>"
      ]
     },
     "execution_count": 12,
     "metadata": {},
     "output_type": "execute_result"
    }
   ],
   "source": [
    "engine.execute('UPDATE adult_sql SET workclass = \"UNKNOWN\" WHERE workclass = \" ?\";')"
   ]
  },
  {
   "cell_type": "code",
   "execution_count": 13,
   "metadata": {},
   "outputs": [
    {
     "name": "stdout",
     "output_type": "stream",
     "text": [
      "2018-12-03 00:16:45,338 INFO sqlalchemy.engine.base.Engine SELECT DISTINCT workclass FROM adult_sql\n",
      "2018-12-03 00:16:45,340 INFO sqlalchemy.engine.base.Engine ()\n"
     ]
    },
    {
     "data": {
      "text/plain": [
       "[(' Private',),\n",
       " ('UNKNOWN',),\n",
       " (' Self-emp-not-inc',),\n",
       " (' State-gov',),\n",
       " (' Federal-gov',),\n",
       " (' Local-gov',),\n",
       " (' Self-emp-inc',),\n",
       " (' Without-pay',),\n",
       " (' Never-worked',)]"
      ]
     },
     "execution_count": 13,
     "metadata": {},
     "output_type": "execute_result"
    }
   ],
   "source": [
    "engine.execute('SELECT DISTINCT workclass FROM adult_sql').fetchall()"
   ]
  },
  {
   "cell_type": "code",
   "execution_count": 14,
   "metadata": {},
   "outputs": [
    {
     "name": "stdout",
     "output_type": "stream",
     "text": [
      "2018-12-03 00:18:26,456 INFO sqlalchemy.engine.base.Engine SELECT DISTINCT occupation FROM adult_sql;\n",
      "2018-12-03 00:18:26,459 INFO sqlalchemy.engine.base.Engine ()\n"
     ]
    },
    {
     "data": {
      "text/plain": [
       "[(' Machine-op-inspct',),\n",
       " (' Prof-specialty',),\n",
       " (' ?',),\n",
       " (' Transport-moving',),\n",
       " (' Craft-repair',),\n",
       " (' Tech-support',),\n",
       " (' Sales',),\n",
       " (' Exec-managerial',),\n",
       " (' Other-service',),\n",
       " (' Adm-clerical',),\n",
       " (' Handlers-cleaners',),\n",
       " (' Farming-fishing',),\n",
       " (' Priv-house-serv',),\n",
       " (' Protective-serv',)]"
      ]
     },
     "execution_count": 14,
     "metadata": {},
     "output_type": "execute_result"
    }
   ],
   "source": [
    "engine.execute('SELECT DISTINCT occupation FROM adult_sql;').fetchall()"
   ]
  },
  {
   "cell_type": "code",
   "execution_count": 15,
   "metadata": {},
   "outputs": [
    {
     "name": "stdout",
     "output_type": "stream",
     "text": [
      "2018-12-03 00:19:03,577 INFO sqlalchemy.engine.base.Engine UPDATE adult_sql SET occupation = \" UNKNOWN\" WHERE occupation = \" ?\";\n",
      "2018-12-03 00:19:03,579 INFO sqlalchemy.engine.base.Engine ()\n",
      "2018-12-03 00:19:03,583 INFO sqlalchemy.engine.base.Engine COMMIT\n"
     ]
    },
    {
     "data": {
      "text/plain": [
       "<sqlalchemy.engine.result.ResultProxy at 0x1851e72a588>"
      ]
     },
     "execution_count": 15,
     "metadata": {},
     "output_type": "execute_result"
    }
   ],
   "source": [
    "engine.execute('UPDATE adult_sql SET occupation = \" UNKNOWN\" WHERE occupation = \" ?\";')"
   ]
  },
  {
   "cell_type": "code",
   "execution_count": 16,
   "metadata": {},
   "outputs": [
    {
     "name": "stdout",
     "output_type": "stream",
     "text": [
      "2018-12-03 00:19:15,889 INFO sqlalchemy.engine.base.Engine SELECT DISTINCT occupation FROM adult_sql;\n",
      "2018-12-03 00:19:15,893 INFO sqlalchemy.engine.base.Engine ()\n"
     ]
    },
    {
     "data": {
      "text/plain": [
       "[(' Machine-op-inspct',),\n",
       " (' Prof-specialty',),\n",
       " (' UNKNOWN',),\n",
       " (' Transport-moving',),\n",
       " (' Craft-repair',),\n",
       " (' Tech-support',),\n",
       " (' Sales',),\n",
       " (' Exec-managerial',),\n",
       " (' Other-service',),\n",
       " (' Adm-clerical',),\n",
       " (' Handlers-cleaners',),\n",
       " (' Farming-fishing',),\n",
       " (' Priv-house-serv',),\n",
       " (' Protective-serv',)]"
      ]
     },
     "execution_count": 16,
     "metadata": {},
     "output_type": "execute_result"
    }
   ],
   "source": [
    "engine.execute('SELECT DISTINCT occupation FROM adult_sql;').fetchall()"
   ]
  }
 ],
 "metadata": {
  "kernelspec": {
   "display_name": "Python 3",
   "language": "python",
   "name": "python3"
  },
  "language_info": {
   "codemirror_mode": {
    "name": "ipython",
    "version": 3
   },
   "file_extension": ".py",
   "mimetype": "text/x-python",
   "name": "python",
   "nbconvert_exporter": "python",
   "pygments_lexer": "ipython3",
   "version": "3.6.5"
  }
 },
 "nbformat": 4,
 "nbformat_minor": 2
}
