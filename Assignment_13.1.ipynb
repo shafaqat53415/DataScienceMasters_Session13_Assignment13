{
 "cells": [
  {
   "cell_type": "code",
   "execution_count": 1,
   "metadata": {},
   "outputs": [],
   "source": [
    "#Read the following data set:\n",
    "#https://archive.ics.uci.edu/ml/machine-learning-databases/adult/adult.data\n",
    "#Task:\n",
    "#1. Create an sqlalchemy engine using a sample from the data set"
   ]
  },
  {
   "cell_type": "code",
   "execution_count": 2,
   "metadata": {},
   "outputs": [],
   "source": [
    "import pandas as pd\n",
    "import sqlalchemy\n",
    "from sqlalchemy import create_engine"
   ]
  },
  {
   "cell_type": "code",
   "execution_count": 3,
   "metadata": {},
   "outputs": [],
   "source": [
    "adult = pd.read_csv('https://archive.ics.uci.edu/ml/machine-learning-databases/adult/adult.data',header=None)"
   ]
  },
  {
   "cell_type": "code",
   "execution_count": 4,
   "metadata": {},
   "outputs": [],
   "source": [
    "adult_sample = adult.sample(frac=0.1)"
   ]
  },
  {
   "cell_type": "code",
   "execution_count": 5,
   "metadata": {},
   "outputs": [
    {
     "name": "stdout",
     "output_type": "stream",
     "text": [
      "<class 'pandas.core.frame.DataFrame'>\n",
      "Int64Index: 3256 entries, 31466 to 4378\n",
      "Data columns (total 15 columns):\n",
      "0     3256 non-null int64\n",
      "1     3256 non-null object\n",
      "2     3256 non-null int64\n",
      "3     3256 non-null object\n",
      "4     3256 non-null int64\n",
      "5     3256 non-null object\n",
      "6     3256 non-null object\n",
      "7     3256 non-null object\n",
      "8     3256 non-null object\n",
      "9     3256 non-null object\n",
      "10    3256 non-null int64\n",
      "11    3256 non-null int64\n",
      "12    3256 non-null int64\n",
      "13    3256 non-null object\n",
      "14    3256 non-null object\n",
      "dtypes: int64(6), object(9)\n",
      "memory usage: 407.0+ KB\n"
     ]
    }
   ],
   "source": [
    "adult_sample.info()"
   ]
  },
  {
   "cell_type": "code",
   "execution_count": 6,
   "metadata": {},
   "outputs": [],
   "source": [
    "engine = create_engine('sqlite:///:memory:', echo=True)"
   ]
  },
  {
   "cell_type": "code",
   "execution_count": 7,
   "metadata": {},
   "outputs": [],
   "source": [
    "adult_sample.columns=['age', 'workclass', 'fnlwgt','education','education-num','marital-status','occupation',\n",
    "             'relationship','race','sex','capital-gain','capital-loss', 'hours-per-week',\n",
    "                   'native-country','grossincome']"
   ]
  },
  {
   "cell_type": "code",
   "execution_count": 8,
   "metadata": {},
   "outputs": [
    {
     "name": "stdout",
     "output_type": "stream",
     "text": [
      "<class 'pandas.core.frame.DataFrame'>\n",
      "Int64Index: 3256 entries, 31466 to 4378\n",
      "Data columns (total 15 columns):\n",
      "age               3256 non-null int64\n",
      "workclass         3256 non-null object\n",
      "fnlwgt            3256 non-null int64\n",
      "education         3256 non-null object\n",
      "education-num     3256 non-null int64\n",
      "marital-status    3256 non-null object\n",
      "occupation        3256 non-null object\n",
      "relationship      3256 non-null object\n",
      "race              3256 non-null object\n",
      "sex               3256 non-null object\n",
      "capital-gain      3256 non-null int64\n",
      "capital-loss      3256 non-null int64\n",
      "hours-per-week    3256 non-null int64\n",
      "native-country    3256 non-null object\n",
      "grossincome       3256 non-null object\n",
      "dtypes: int64(6), object(9)\n",
      "memory usage: 407.0+ KB\n"
     ]
    }
   ],
   "source": [
    "adult_sample.info()"
   ]
  },
  {
   "cell_type": "code",
   "execution_count": 9,
   "metadata": {},
   "outputs": [
    {
     "name": "stdout",
     "output_type": "stream",
     "text": [
      "2018-12-03 00:05:13,503 INFO sqlalchemy.engine.base.Engine SELECT CAST('test plain returns' AS VARCHAR(60)) AS anon_1\n",
      "2018-12-03 00:05:13,507 INFO sqlalchemy.engine.base.Engine ()\n",
      "2018-12-03 00:05:13,510 INFO sqlalchemy.engine.base.Engine SELECT CAST('test unicode returns' AS VARCHAR(60)) AS anon_1\n",
      "2018-12-03 00:05:13,512 INFO sqlalchemy.engine.base.Engine ()\n",
      "2018-12-03 00:05:13,515 INFO sqlalchemy.engine.base.Engine PRAGMA table_info(\"adult_sql\")\n",
      "2018-12-03 00:05:13,518 INFO sqlalchemy.engine.base.Engine ()\n",
      "2018-12-03 00:05:13,527 INFO sqlalchemy.engine.base.Engine \n",
      "CREATE TABLE adult_sql (\n",
      "\t\"index\" BIGINT, \n",
      "\tage BIGINT, \n",
      "\tworkclass TEXT, \n",
      "\tfnlwgt BIGINT, \n",
      "\teducation TEXT, \n",
      "\t\"education-num\" BIGINT, \n",
      "\t\"marital-status\" TEXT, \n",
      "\toccupation TEXT, \n",
      "\trelationship TEXT, \n",
      "\trace TEXT, \n",
      "\tsex TEXT, \n",
      "\t\"capital-gain\" BIGINT, \n",
      "\t\"capital-loss\" BIGINT, \n",
      "\t\"hours-per-week\" BIGINT, \n",
      "\t\"native-country\" TEXT, \n",
      "\tgrossincome TEXT\n",
      ")\n",
      "\n",
      "\n",
      "2018-12-03 00:05:13,529 INFO sqlalchemy.engine.base.Engine ()\n",
      "2018-12-03 00:05:13,539 INFO sqlalchemy.engine.base.Engine COMMIT\n",
      "2018-12-03 00:05:13,542 INFO sqlalchemy.engine.base.Engine CREATE INDEX ix_adult_sql_index ON adult_sql (\"index\")\n",
      "2018-12-03 00:05:13,543 INFO sqlalchemy.engine.base.Engine ()\n",
      "2018-12-03 00:05:13,546 INFO sqlalchemy.engine.base.Engine COMMIT\n",
      "2018-12-03 00:05:13,563 INFO sqlalchemy.engine.base.Engine BEGIN (implicit)\n",
      "2018-12-03 00:05:13,646 INFO sqlalchemy.engine.base.Engine INSERT INTO adult_sql (\"index\", age, workclass, fnlwgt, education, \"education-num\", \"marital-status\", occupation, relationship, race, sex, \"capital-gain\", \"capital-loss\", \"hours-per-week\", \"native-country\", grossincome) VALUES (?, ?, ?, ?, ?, ?, ?, ?, ?, ?, ?, ?, ?, ?, ?, ?)\n",
      "2018-12-03 00:05:13,648 INFO sqlalchemy.engine.base.Engine ((31466, 24, ' Private', 213902, ' 7th-8th', 4, ' Never-married', ' Priv-house-serv', ' Own-child', ' White', ' Female', 0, 0, 32, ' El-Salvador', ' <=50K'), (25388, 27, ' Private', 78529, ' HS-grad', 9, ' Never-married', ' Transport-moving', ' Own-child', ' White', ' Female', 0, 0, 15, ' United-States', ' <=50K'), (13102, 33, ' Private', 180859, ' HS-grad', 9, ' Divorced', ' Exec-managerial', ' Not-in-family', ' White', ' Male', 0, 0, 40, ' United-States', ' <=50K'), (13074, 62, ' ?', 123612, ' Bachelors', 13, ' Married-civ-spouse', ' ?', ' Husband', ' White', ' Male', 0, 0, 4, ' United-States', ' <=50K'), (1649, 59, ' Private', 143372, ' 10th', 6, ' Divorced', ' Adm-clerical', ' Not-in-family', ' Black', ' Female', 0, 0, 40, ' United-States', ' <=50K'), (31293, 54, ' Private', 215990, ' HS-grad', 9, ' Married-civ-spouse', ' Exec-managerial', ' Husband', ' White', ' Male', 0, 0, 40, ' United-States', ' >50K'), (881, 32, ' Private', 270335, ' Bachelors', 13, ' Married-civ-spouse', ' Adm-clerical', ' Other-relative', ' White', ' Male', 0, 0, 40, ' Philippines', ' >50K'), (27296, 23, ' Self-emp-not-inc', 111296, ' 11th', 7, ' Never-married', ' Craft-repair', ' Own-child', ' White', ' Male', 0, 0, 50, ' Mexico', ' <=50K')  ... displaying 10 of 3256 total bound parameter sets ...  (9641, 42, ' Private', 121055, ' Some-college', 10, ' Never-married', ' Sales', ' Not-in-family', ' White', ' Male', 0, 0, 45, ' United-States', ' <=50K'), (4378, 45, ' Private', 178215, ' 9th', 5, ' Married-civ-spouse', ' Machine-op-inspct', ' Wife', ' White', ' Female', 0, 0, 40, ' United-States', ' >50K'))\n",
      "2018-12-03 00:05:13,682 INFO sqlalchemy.engine.base.Engine COMMIT\n"
     ]
    }
   ],
   "source": [
    "adult_sample.to_sql('adult_sql', con=engine)"
   ]
  },
  {
   "cell_type": "code",
   "execution_count": 10,
   "metadata": {},
   "outputs": [
    {
     "name": "stdout",
     "output_type": "stream",
     "text": [
      "2018-12-03 00:06:24,550 INFO sqlalchemy.engine.base.Engine SELECT * FROM adult_sql LIMIT 2;\n",
      "2018-12-03 00:06:24,552 INFO sqlalchemy.engine.base.Engine ()\n"
     ]
    },
    {
     "data": {
      "text/plain": [
       "[(31466, 24, ' Private', 213902, ' 7th-8th', 4, ' Never-married', ' Priv-house-serv', ' Own-child', ' White', ' Female', 0, 0, 32, ' El-Salvador', ' <=50K'),\n",
       " (25388, 27, ' Private', 78529, ' HS-grad', 9, ' Never-married', ' Transport-moving', ' Own-child', ' White', ' Female', 0, 0, 15, ' United-States', ' <=50K')]"
      ]
     },
     "execution_count": 10,
     "metadata": {},
     "output_type": "execute_result"
    }
   ],
   "source": [
    "engine.execute('SELECT * FROM adult_sql LIMIT 2;').fetchall()"
   ]
  }
 ],
 "metadata": {
  "kernelspec": {
   "display_name": "Python 3",
   "language": "python",
   "name": "python3"
  },
  "language_info": {
   "codemirror_mode": {
    "name": "ipython",
    "version": 3
   },
   "file_extension": ".py",
   "mimetype": "text/x-python",
   "name": "python",
   "nbconvert_exporter": "python",
   "pygments_lexer": "ipython3",
   "version": "3.6.5"
  }
 },
 "nbformat": 4,
 "nbformat_minor": 2
}
