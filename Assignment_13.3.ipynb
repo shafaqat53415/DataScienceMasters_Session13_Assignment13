{
 "cells": [
  {
   "cell_type": "code",
   "execution_count": 1,
   "metadata": {},
   "outputs": [],
   "source": [
    "#Read the following data set:\n",
    "#https://archive.ics.uci.edu/ml/machine-learning-databases/adult/adult.data\n",
    "#Task:\n",
    "#3. Write two delete queries"
   ]
  },
  {
   "cell_type": "code",
   "execution_count": 2,
   "metadata": {},
   "outputs": [],
   "source": [
    "import pandas as pd\n",
    "import sqlalchemy\n",
    "from sqlalchemy import create_engine"
   ]
  },
  {
   "cell_type": "code",
   "execution_count": 15,
   "metadata": {},
   "outputs": [
    {
     "name": "stdout",
     "output_type": "stream",
     "text": [
      "<class 'pandas.core.frame.DataFrame'>\n",
      "Int64Index: 3256 entries, 9634 to 317\n",
      "Data columns (total 15 columns):\n",
      "age               3256 non-null int64\n",
      "workclass         3256 non-null object\n",
      "fnlwgt            3256 non-null int64\n",
      "education         3256 non-null object\n",
      "education-num     3256 non-null int64\n",
      "marital-status    3256 non-null object\n",
      "occupation        3256 non-null object\n",
      "relationship      3256 non-null object\n",
      "race              3256 non-null object\n",
      "sex               3256 non-null object\n",
      "capital-gain      3256 non-null int64\n",
      "capital-loss      3256 non-null int64\n",
      "hours-per-week    3256 non-null int64\n",
      "native-country    3256 non-null object\n",
      "grossincome       3256 non-null object\n",
      "dtypes: int64(6), object(9)\n",
      "memory usage: 407.0+ KB\n"
     ]
    }
   ],
   "source": [
    "adult = pd.read_csv('https://archive.ics.uci.edu/ml/machine-learning-databases/adult/adult.data',header=None)\n",
    "adult_sample = adult.sample(frac=0.1)\n",
    "adult_sample.columns=['age', 'workclass', 'fnlwgt','education','education-num','marital-status','occupation',\n",
    "             'relationship','race','sex','capital-gain','capital-loss', 'hours-per-week',\n",
    "                   'native-country','grossincome']\n",
    "adult_sample.info()"
   ]
  },
  {
   "cell_type": "code",
   "execution_count": 16,
   "metadata": {},
   "outputs": [
    {
     "name": "stdout",
     "output_type": "stream",
     "text": [
      "2018-12-03 00:37:11,073 INFO sqlalchemy.engine.base.Engine SELECT CAST('test plain returns' AS VARCHAR(60)) AS anon_1\n",
      "2018-12-03 00:37:11,074 INFO sqlalchemy.engine.base.Engine ()\n",
      "2018-12-03 00:37:11,077 INFO sqlalchemy.engine.base.Engine SELECT CAST('test unicode returns' AS VARCHAR(60)) AS anon_1\n",
      "2018-12-03 00:37:11,079 INFO sqlalchemy.engine.base.Engine ()\n",
      "2018-12-03 00:37:11,081 INFO sqlalchemy.engine.base.Engine PRAGMA table_info(\"adult_sql\")\n",
      "2018-12-03 00:37:11,086 INFO sqlalchemy.engine.base.Engine ()\n",
      "2018-12-03 00:37:11,091 INFO sqlalchemy.engine.base.Engine \n",
      "CREATE TABLE adult_sql (\n",
      "\t\"index\" BIGINT, \n",
      "\tage BIGINT, \n",
      "\tworkclass TEXT, \n",
      "\tfnlwgt BIGINT, \n",
      "\teducation TEXT, \n",
      "\t\"education-num\" BIGINT, \n",
      "\t\"marital-status\" TEXT, \n",
      "\toccupation TEXT, \n",
      "\trelationship TEXT, \n",
      "\trace TEXT, \n",
      "\tsex TEXT, \n",
      "\t\"capital-gain\" BIGINT, \n",
      "\t\"capital-loss\" BIGINT, \n",
      "\t\"hours-per-week\" BIGINT, \n",
      "\t\"native-country\" TEXT, \n",
      "\tgrossincome TEXT\n",
      ")\n",
      "\n",
      "\n",
      "2018-12-03 00:37:11,093 INFO sqlalchemy.engine.base.Engine ()\n",
      "2018-12-03 00:37:11,096 INFO sqlalchemy.engine.base.Engine COMMIT\n",
      "2018-12-03 00:37:11,097 INFO sqlalchemy.engine.base.Engine CREATE INDEX ix_adult_sql_index ON adult_sql (\"index\")\n",
      "2018-12-03 00:37:11,099 INFO sqlalchemy.engine.base.Engine ()\n",
      "2018-12-03 00:37:11,114 INFO sqlalchemy.engine.base.Engine COMMIT\n",
      "2018-12-03 00:37:11,124 INFO sqlalchemy.engine.base.Engine BEGIN (implicit)\n",
      "2018-12-03 00:37:11,222 INFO sqlalchemy.engine.base.Engine INSERT INTO adult_sql (\"index\", age, workclass, fnlwgt, education, \"education-num\", \"marital-status\", occupation, relationship, race, sex, \"capital-gain\", \"capital-loss\", \"hours-per-week\", \"native-country\", grossincome) VALUES (?, ?, ?, ?, ?, ?, ?, ?, ?, ?, ?, ?, ?, ?, ?, ?)\n",
      "2018-12-03 00:37:11,228 INFO sqlalchemy.engine.base.Engine ((9634, 51, ' Private', 251487, ' 7th-8th', 4, ' Widowed', ' Machine-op-inspct', ' Not-in-family', ' Amer-Indian-Eskimo', ' Female', 0, 0, 40, ' United-States', ' <=50K'), (32420, 23, ' Private', 45834, ' Bachelors', 13, ' Never-married', ' Exec-managerial', ' Not-in-family', ' White', ' Female', 0, 0, 50, ' United-States', ' <=50K'), (8878, 30, ' Private', 158688, ' HS-grad', 9, ' Married-civ-spouse', ' Machine-op-inspct', ' Husband', ' White', ' Male', 0, 0, 40, ' United-States', ' <=50K'), (7715, 24, ' Private', 249351, ' HS-grad', 9, ' Married-civ-spouse', ' Machine-op-inspct', ' Wife', ' White', ' Female', 0, 0, 40, ' United-States', ' <=50K'), (31548, 46, ' Private', 164877, ' Some-college', 10, ' Married-civ-spouse', ' Craft-repair', ' Husband', ' White', ' Male', 0, 0, 44, ' United-States', ' <=50K'), (14717, 63, ' ?', 110150, ' HS-grad', 9, ' Married-civ-spouse', ' ?', ' Husband', ' White', ' Male', 0, 0, 55, ' United-States', ' >50K'), (18896, 48, ' Private', 105138, ' HS-grad', 9, ' Divorced', ' Exec-managerial', ' Unmarried', ' Asian-Pac-Islander', ' Female', 0, 0, 40, ' United-States', ' <=50K'), (24968, 58, ' Private', 100313, ' Some-college', 10, ' Married-civ-spouse', ' Protective-serv', ' Husband', ' White', ' Male', 0, 1902, 40, ' United-States', ' >50K')  ... displaying 10 of 3256 total bound parameter sets ...  (10955, 43, ' ?', 396116, ' HS-grad', 9, ' Married-civ-spouse', ' ?', ' Husband', ' White', ' Male', 0, 0, 40, ' United-States', ' <=50K'), (317, 22, ' Private', 399087, ' 5th-6th', 3, ' Married-civ-spouse', ' Machine-op-inspct', ' Other-relative', ' White', ' Female', 0, 0, 40, ' Mexico', ' <=50K'))\n",
      "2018-12-03 00:37:11,257 INFO sqlalchemy.engine.base.Engine COMMIT\n"
     ]
    }
   ],
   "source": [
    "engine = create_engine('sqlite:///:memory:', echo=True)\n",
    "adult_sample.to_sql('adult_sql', con=engine)"
   ]
  },
  {
   "cell_type": "code",
   "execution_count": 5,
   "metadata": {},
   "outputs": [
    {
     "name": "stdout",
     "output_type": "stream",
     "text": [
      "2018-12-03 00:28:15,272 INFO sqlalchemy.engine.base.Engine SELECT age FROM adult_sql WHERE age > 80;\n",
      "2018-12-03 00:28:15,276 INFO sqlalchemy.engine.base.Engine ()\n"
     ]
    },
    {
     "data": {
      "text/plain": [
       "[(88,), (81,), (90,), (84,), (81,), (90,), (82,), (90,), (85,), (84,), (90,)]"
      ]
     },
     "execution_count": 5,
     "metadata": {},
     "output_type": "execute_result"
    }
   ],
   "source": [
    "engine.execute('SELECT age FROM adult_sql WHERE age > 80;').fetchall()"
   ]
  },
  {
   "cell_type": "code",
   "execution_count": 6,
   "metadata": {},
   "outputs": [
    {
     "name": "stdout",
     "output_type": "stream",
     "text": [
      "2018-12-03 00:28:56,592 INFO sqlalchemy.engine.base.Engine DELETE FROM adult_sql WHERE age > 80;\n",
      "2018-12-03 00:28:56,594 INFO sqlalchemy.engine.base.Engine ()\n",
      "2018-12-03 00:28:56,603 INFO sqlalchemy.engine.base.Engine COMMIT\n"
     ]
    },
    {
     "data": {
      "text/plain": [
       "<sqlalchemy.engine.result.ResultProxy at 0x229b473e978>"
      ]
     },
     "execution_count": 6,
     "metadata": {},
     "output_type": "execute_result"
    }
   ],
   "source": [
    "engine.execute('DELETE FROM adult_sql WHERE age > 80;')"
   ]
  },
  {
   "cell_type": "code",
   "execution_count": 7,
   "metadata": {},
   "outputs": [
    {
     "name": "stdout",
     "output_type": "stream",
     "text": [
      "2018-12-03 00:29:07,837 INFO sqlalchemy.engine.base.Engine SELECT age FROM adult_sql WHERE age > 80;\n",
      "2018-12-03 00:29:07,839 INFO sqlalchemy.engine.base.Engine ()\n"
     ]
    },
    {
     "data": {
      "text/plain": [
       "[]"
      ]
     },
     "execution_count": 7,
     "metadata": {},
     "output_type": "execute_result"
    }
   ],
   "source": [
    "engine.execute('SELECT age FROM adult_sql WHERE age > 80;').fetchall()"
   ]
  },
  {
   "cell_type": "code",
   "execution_count": 18,
   "metadata": {},
   "outputs": [
    {
     "name": "stdout",
     "output_type": "stream",
     "text": [
      "2018-12-03 00:37:56,190 INFO sqlalchemy.engine.base.Engine SELECT COUNT(*) FROM adult_sql WHERE \"native-country\" = \" ?\";\n",
      "2018-12-03 00:37:56,192 INFO sqlalchemy.engine.base.Engine ()\n"
     ]
    },
    {
     "data": {
      "text/plain": [
       "[(66,)]"
      ]
     },
     "execution_count": 18,
     "metadata": {},
     "output_type": "execute_result"
    }
   ],
   "source": [
    "engine.execute('SELECT COUNT(*) FROM adult_sql WHERE \"native-country\" = \" ?\";').fetchall()"
   ]
  },
  {
   "cell_type": "code",
   "execution_count": 19,
   "metadata": {},
   "outputs": [
    {
     "name": "stdout",
     "output_type": "stream",
     "text": [
      "2018-12-03 00:38:00,461 INFO sqlalchemy.engine.base.Engine DELETE FROM adult_sql WHERE \"native-country\" = \" ?\";\n",
      "2018-12-03 00:38:00,463 INFO sqlalchemy.engine.base.Engine ()\n",
      "2018-12-03 00:38:00,466 INFO sqlalchemy.engine.base.Engine COMMIT\n"
     ]
    },
    {
     "data": {
      "text/plain": [
       "<sqlalchemy.engine.result.ResultProxy at 0x229b7fb7cc0>"
      ]
     },
     "execution_count": 19,
     "metadata": {},
     "output_type": "execute_result"
    }
   ],
   "source": [
    "engine.execute('DELETE FROM adult_sql WHERE \"native-country\" = \" ?\";')"
   ]
  },
  {
   "cell_type": "code",
   "execution_count": 21,
   "metadata": {},
   "outputs": [
    {
     "name": "stdout",
     "output_type": "stream",
     "text": [
      "2018-12-03 00:38:25,894 INFO sqlalchemy.engine.base.Engine SELECT COUNT(*) FROM adult_sql WHERE \"native-country\" = \" ?\";\n",
      "2018-12-03 00:38:25,897 INFO sqlalchemy.engine.base.Engine ()\n"
     ]
    },
    {
     "data": {
      "text/plain": [
       "[(0,)]"
      ]
     },
     "execution_count": 21,
     "metadata": {},
     "output_type": "execute_result"
    }
   ],
   "source": [
    "engine.execute('SELECT COUNT(*) FROM adult_sql WHERE \"native-country\" = \" ?\";').fetchall()"
   ]
  }
 ],
 "metadata": {
  "kernelspec": {
   "display_name": "Python 3",
   "language": "python",
   "name": "python3"
  },
  "language_info": {
   "codemirror_mode": {
    "name": "ipython",
    "version": 3
   },
   "file_extension": ".py",
   "mimetype": "text/x-python",
   "name": "python",
   "nbconvert_exporter": "python",
   "pygments_lexer": "ipython3",
   "version": "3.6.5"
  }
 },
 "nbformat": 4,
 "nbformat_minor": 2
}
