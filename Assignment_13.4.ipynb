{
 "cells": [
  {
   "cell_type": "code",
   "execution_count": 1,
   "metadata": {},
   "outputs": [],
   "source": [
    "#Read the following data set:\n",
    "#https://archive.ics.uci.edu/ml/machine-learning-databases/adult/adult.data\n",
    "#Task:\n",
    "#4. Write two filter queries"
   ]
  },
  {
   "cell_type": "code",
   "execution_count": 2,
   "metadata": {},
   "outputs": [],
   "source": [
    "import pandas as pd\n",
    "import sqlalchemy\n",
    "from sqlalchemy import create_engine"
   ]
  },
  {
   "cell_type": "code",
   "execution_count": 3,
   "metadata": {},
   "outputs": [
    {
     "name": "stdout",
     "output_type": "stream",
     "text": [
      "<class 'pandas.core.frame.DataFrame'>\n",
      "Int64Index: 3256 entries, 16148 to 217\n",
      "Data columns (total 15 columns):\n",
      "age               3256 non-null int64\n",
      "workclass         3256 non-null object\n",
      "fnlwgt            3256 non-null int64\n",
      "education         3256 non-null object\n",
      "education-num     3256 non-null int64\n",
      "marital-status    3256 non-null object\n",
      "occupation        3256 non-null object\n",
      "relationship      3256 non-null object\n",
      "race              3256 non-null object\n",
      "sex               3256 non-null object\n",
      "capital-gain      3256 non-null int64\n",
      "capital-loss      3256 non-null int64\n",
      "hours-per-week    3256 non-null int64\n",
      "native-country    3256 non-null object\n",
      "grossincome       3256 non-null object\n",
      "dtypes: int64(6), object(9)\n",
      "memory usage: 407.0+ KB\n"
     ]
    }
   ],
   "source": [
    "adult = pd.read_csv('https://archive.ics.uci.edu/ml/machine-learning-databases/adult/adult.data',header=None)\n",
    "adult_sample = adult.sample(frac=0.1)\n",
    "adult_sample.columns=['age', 'workclass', 'fnlwgt','education','education-num','marital-status','occupation',\n",
    "             'relationship','race','sex','capital-gain','capital-loss', 'hours-per-week',\n",
    "                   'native-country','grossincome']\n",
    "adult_sample.info()"
   ]
  },
  {
   "cell_type": "code",
   "execution_count": 4,
   "metadata": {},
   "outputs": [
    {
     "name": "stdout",
     "output_type": "stream",
     "text": [
      "2018-12-03 00:40:16,554 INFO sqlalchemy.engine.base.Engine SELECT CAST('test plain returns' AS VARCHAR(60)) AS anon_1\n",
      "2018-12-03 00:40:16,558 INFO sqlalchemy.engine.base.Engine ()\n",
      "2018-12-03 00:40:16,566 INFO sqlalchemy.engine.base.Engine SELECT CAST('test unicode returns' AS VARCHAR(60)) AS anon_1\n",
      "2018-12-03 00:40:16,574 INFO sqlalchemy.engine.base.Engine ()\n",
      "2018-12-03 00:40:16,580 INFO sqlalchemy.engine.base.Engine PRAGMA table_info(\"adult_sql\")\n",
      "2018-12-03 00:40:16,583 INFO sqlalchemy.engine.base.Engine ()\n",
      "2018-12-03 00:40:16,597 INFO sqlalchemy.engine.base.Engine \n",
      "CREATE TABLE adult_sql (\n",
      "\t\"index\" BIGINT, \n",
      "\tage BIGINT, \n",
      "\tworkclass TEXT, \n",
      "\tfnlwgt BIGINT, \n",
      "\teducation TEXT, \n",
      "\t\"education-num\" BIGINT, \n",
      "\t\"marital-status\" TEXT, \n",
      "\toccupation TEXT, \n",
      "\trelationship TEXT, \n",
      "\trace TEXT, \n",
      "\tsex TEXT, \n",
      "\t\"capital-gain\" BIGINT, \n",
      "\t\"capital-loss\" BIGINT, \n",
      "\t\"hours-per-week\" BIGINT, \n",
      "\t\"native-country\" TEXT, \n",
      "\tgrossincome TEXT\n",
      ")\n",
      "\n",
      "\n",
      "2018-12-03 00:40:16,603 INFO sqlalchemy.engine.base.Engine ()\n",
      "2018-12-03 00:40:16,606 INFO sqlalchemy.engine.base.Engine COMMIT\n",
      "2018-12-03 00:40:16,608 INFO sqlalchemy.engine.base.Engine CREATE INDEX ix_adult_sql_index ON adult_sql (\"index\")\n",
      "2018-12-03 00:40:16,610 INFO sqlalchemy.engine.base.Engine ()\n",
      "2018-12-03 00:40:16,618 INFO sqlalchemy.engine.base.Engine COMMIT\n",
      "2018-12-03 00:40:16,633 INFO sqlalchemy.engine.base.Engine BEGIN (implicit)\n",
      "2018-12-03 00:40:16,778 INFO sqlalchemy.engine.base.Engine INSERT INTO adult_sql (\"index\", age, workclass, fnlwgt, education, \"education-num\", \"marital-status\", occupation, relationship, race, sex, \"capital-gain\", \"capital-loss\", \"hours-per-week\", \"native-country\", grossincome) VALUES (?, ?, ?, ?, ?, ?, ?, ?, ?, ?, ?, ?, ?, ?, ?, ?)\n",
      "2018-12-03 00:40:16,781 INFO sqlalchemy.engine.base.Engine ((16148, 28, ' Self-emp-inc', 153291, ' HS-grad', 9, ' Never-married', ' Adm-clerical', ' Own-child', ' White', ' Female', 0, 0, 35, ' United-States', ' <=50K'), (3281, 31, ' Local-gov', 446358, ' Doctorate', 16, ' Never-married', ' Prof-specialty', ' Not-in-family', ' White', ' Male', 0, 0, 50, ' Mexico', ' >50K'), (26672, 30, ' Private', 206325, ' 11th', 7, ' Married-civ-spouse', ' Craft-repair', ' Husband', ' White', ' Male', 0, 0, 45, ' United-States', ' <=50K'), (16367, 28, ' Private', 278736, ' 5th-6th', 3, ' Married-civ-spouse', ' Machine-op-inspct', ' Husband', ' White', ' Male', 0, 0, 40, ' Mexico', ' <=50K'), (13946, 25, ' Private', 396633, ' Some-college', 10, ' Married-civ-spouse', ' Adm-clerical', ' Wife', ' Black', ' Female', 0, 0, 56, ' United-States', ' >50K'), (29049, 34, ' Private', 98101, ' 7th-8th', 4, ' Married-civ-spouse', ' Transport-moving', ' Husband', ' White', ' Male', 0, 0, 40, ' United-States', ' <=50K'), (23272, 25, ' Private', 109419, ' HS-grad', 9, ' Never-married', ' Adm-clerical', ' Own-child', ' White', ' Female', 0, 0, 40, ' United-States', ' <=50K'), (32203, 51, ' Federal-gov', 223206, ' Doctorate', 16, ' Married-civ-spouse', ' Prof-specialty', ' Husband', ' Asian-Pac-Islander', ' Male', 15024, 0, 40, ' Vietnam', ' >50K')  ... displaying 10 of 3256 total bound parameter sets ...  (12717, 58, ' Private', 183870, ' HS-grad', 9, ' Divorced', ' Adm-clerical', ' Not-in-family', ' White', ' Female', 0, 0, 40, ' United-States', ' <=50K'), (217, 38, ' Private', 182609, ' Bachelors', 13, ' Married-civ-spouse', ' Sales', ' Husband', ' White', ' Male', 0, 0, 50, ' Poland', ' <=50K'))\n",
      "2018-12-03 00:40:16,836 INFO sqlalchemy.engine.base.Engine COMMIT\n"
     ]
    }
   ],
   "source": [
    "engine = create_engine('sqlite:///:memory:', echo=True)\n",
    "adult_sample.to_sql('adult_sql', con=engine)"
   ]
  },
  {
   "cell_type": "code",
   "execution_count": 6,
   "metadata": {},
   "outputs": [
    {
     "name": "stdout",
     "output_type": "stream",
     "text": [
      "2018-12-03 00:43:25,701 INFO sqlalchemy.engine.base.Engine SELECT * FROM adult_sql WHERE workclass = \" Private\" and sex = \" Male\" and \"native-country\" = \" India\";\n",
      "2018-12-03 00:43:25,704 INFO sqlalchemy.engine.base.Engine ()\n"
     ]
    },
    {
     "data": {
      "text/plain": [
       "[(18968, 27, ' Private', 154210, ' 11th', 7, ' Married-spouse-absent', ' Sales', ' Own-child', ' Asian-Pac-Islander', ' Male', 0, 0, 35, ' India', ' <=50K'),\n",
       " (4512, 29, ' Private', 193260, ' Bachelors', 13, ' Married-civ-spouse', ' Craft-repair', ' Other-relative', ' Asian-Pac-Islander', ' Male', 0, 0, 30, ' India', ' <=50K')]"
      ]
     },
     "execution_count": 6,
     "metadata": {},
     "output_type": "execute_result"
    }
   ],
   "source": [
    "engine.execute('SELECT * FROM adult_sql WHERE workclass = \" Private\" and sex = \" Male\" and \"native-country\" = \" India\";').fetchall()"
   ]
  },
  {
   "cell_type": "code",
   "execution_count": 7,
   "metadata": {},
   "outputs": [
    {
     "name": "stdout",
     "output_type": "stream",
     "text": [
      "2018-12-03 00:46:49,378 INFO sqlalchemy.engine.base.Engine select * from adult_sql where education = \" Masters\" and \"native-country\" = \" India\"\n",
      "2018-12-03 00:46:49,381 INFO sqlalchemy.engine.base.Engine ()\n"
     ]
    },
    {
     "data": {
      "text/plain": [
       "[(9793, 45, ' State-gov', 94754, ' Masters', 14, ' Married-civ-spouse', ' Adm-clerical', ' Husband', ' White', ' Male', 0, 0, 40, ' India', ' <=50K')]"
      ]
     },
     "execution_count": 7,
     "metadata": {},
     "output_type": "execute_result"
    }
   ],
   "source": [
    "engine.execute('select * from adult_sql where education = \" Masters\" and \"native-country\" = \" India\"').fetchall()"
   ]
  }
 ],
 "metadata": {
  "kernelspec": {
   "display_name": "Python 3",
   "language": "python",
   "name": "python3"
  },
  "language_info": {
   "codemirror_mode": {
    "name": "ipython",
    "version": 3
   },
   "file_extension": ".py",
   "mimetype": "text/x-python",
   "name": "python",
   "nbconvert_exporter": "python",
   "pygments_lexer": "ipython3",
   "version": "3.6.5"
  }
 },
 "nbformat": 4,
 "nbformat_minor": 2
}
