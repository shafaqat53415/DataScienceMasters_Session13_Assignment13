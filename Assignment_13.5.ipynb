{
 "cells": [
  {
   "cell_type": "code",
   "execution_count": 1,
   "metadata": {},
   "outputs": [],
   "source": [
    "#Read the following data set:\n",
    "#https://archive.ics.uci.edu/ml/machine-learning-databases/adult/adult.data\n",
    "#Task:\n",
    "#5. Write two function queries"
   ]
  },
  {
   "cell_type": "code",
   "execution_count": 2,
   "metadata": {},
   "outputs": [],
   "source": [
    "import pandas as pd\n",
    "import sqlalchemy\n",
    "from sqlalchemy import create_engine"
   ]
  },
  {
   "cell_type": "code",
   "execution_count": 3,
   "metadata": {},
   "outputs": [
    {
     "name": "stdout",
     "output_type": "stream",
     "text": [
      "<class 'pandas.core.frame.DataFrame'>\n",
      "Int64Index: 3256 entries, 1425 to 535\n",
      "Data columns (total 15 columns):\n",
      "age               3256 non-null int64\n",
      "workclass         3256 non-null object\n",
      "fnlwgt            3256 non-null int64\n",
      "education         3256 non-null object\n",
      "education-num     3256 non-null int64\n",
      "marital-status    3256 non-null object\n",
      "occupation        3256 non-null object\n",
      "relationship      3256 non-null object\n",
      "race              3256 non-null object\n",
      "sex               3256 non-null object\n",
      "capital-gain      3256 non-null int64\n",
      "capital-loss      3256 non-null int64\n",
      "hours-per-week    3256 non-null int64\n",
      "native-country    3256 non-null object\n",
      "grossincome       3256 non-null object\n",
      "dtypes: int64(6), object(9)\n",
      "memory usage: 407.0+ KB\n"
     ]
    }
   ],
   "source": [
    "adult = pd.read_csv('https://archive.ics.uci.edu/ml/machine-learning-databases/adult/adult.data',header=None)\n",
    "adult_sample = adult.sample(frac=0.1)\n",
    "adult_sample.columns=['age', 'workclass', 'fnlwgt','education','education-num','marital-status','occupation',\n",
    "             'relationship','race','sex','capital-gain','capital-loss', 'hours-per-week',\n",
    "                   'native-country','grossincome']\n",
    "adult_sample.info()"
   ]
  },
  {
   "cell_type": "code",
   "execution_count": 4,
   "metadata": {},
   "outputs": [
    {
     "name": "stdout",
     "output_type": "stream",
     "text": [
      "2018-12-03 00:50:11,853 INFO sqlalchemy.engine.base.Engine SELECT CAST('test plain returns' AS VARCHAR(60)) AS anon_1\n",
      "2018-12-03 00:50:11,855 INFO sqlalchemy.engine.base.Engine ()\n",
      "2018-12-03 00:50:11,863 INFO sqlalchemy.engine.base.Engine SELECT CAST('test unicode returns' AS VARCHAR(60)) AS anon_1\n",
      "2018-12-03 00:50:11,868 INFO sqlalchemy.engine.base.Engine ()\n",
      "2018-12-03 00:50:11,872 INFO sqlalchemy.engine.base.Engine PRAGMA table_info(\"adult_sql\")\n",
      "2018-12-03 00:50:11,875 INFO sqlalchemy.engine.base.Engine ()\n",
      "2018-12-03 00:50:11,888 INFO sqlalchemy.engine.base.Engine \n",
      "CREATE TABLE adult_sql (\n",
      "\t\"index\" BIGINT, \n",
      "\tage BIGINT, \n",
      "\tworkclass TEXT, \n",
      "\tfnlwgt BIGINT, \n",
      "\teducation TEXT, \n",
      "\t\"education-num\" BIGINT, \n",
      "\t\"marital-status\" TEXT, \n",
      "\toccupation TEXT, \n",
      "\trelationship TEXT, \n",
      "\trace TEXT, \n",
      "\tsex TEXT, \n",
      "\t\"capital-gain\" BIGINT, \n",
      "\t\"capital-loss\" BIGINT, \n",
      "\t\"hours-per-week\" BIGINT, \n",
      "\t\"native-country\" TEXT, \n",
      "\tgrossincome TEXT\n",
      ")\n",
      "\n",
      "\n",
      "2018-12-03 00:50:11,892 INFO sqlalchemy.engine.base.Engine ()\n",
      "2018-12-03 00:50:11,897 INFO sqlalchemy.engine.base.Engine COMMIT\n",
      "2018-12-03 00:50:11,907 INFO sqlalchemy.engine.base.Engine CREATE INDEX ix_adult_sql_index ON adult_sql (\"index\")\n",
      "2018-12-03 00:50:11,914 INFO sqlalchemy.engine.base.Engine ()\n",
      "2018-12-03 00:50:11,919 INFO sqlalchemy.engine.base.Engine COMMIT\n",
      "2018-12-03 00:50:11,935 INFO sqlalchemy.engine.base.Engine BEGIN (implicit)\n",
      "2018-12-03 00:50:12,080 INFO sqlalchemy.engine.base.Engine INSERT INTO adult_sql (\"index\", age, workclass, fnlwgt, education, \"education-num\", \"marital-status\", occupation, relationship, race, sex, \"capital-gain\", \"capital-loss\", \"hours-per-week\", \"native-country\", grossincome) VALUES (?, ?, ?, ?, ?, ?, ?, ?, ?, ?, ?, ?, ?, ?, ?, ?)\n",
      "2018-12-03 00:50:12,098 INFO sqlalchemy.engine.base.Engine ((1425, 46, ' Private', 134727, ' 11th', 7, ' Divorced', ' Machine-op-inspct', ' Unmarried', ' Amer-Indian-Eskimo', ' Male', 0, 0, 43, ' Germany', ' <=50K'), (3869, 49, ' Private', 107425, ' Masters', 14, ' Never-married', ' Sales', ' Not-in-family', ' White', ' Female', 0, 0, 35, ' United-States', ' <=50K'), (11697, 55, ' Private', 213894, ' 11th', 7, ' Separated', ' Adm-clerical', ' Unmarried', ' Black', ' Female', 0, 0, 40, ' United-States', ' <=50K'), (12086, 66, ' Private', 167711, ' HS-grad', 9, ' Widowed', ' Sales', ' Not-in-family', ' White', ' Female', 0, 0, 40, ' United-States', ' >50K'), (16249, 30, ' Private', 131699, ' HS-grad', 9, ' Divorced', ' Transport-moving', ' Not-in-family', ' White', ' Male', 0, 0, 40, ' United-States', ' <=50K'), (2373, 57, ' Private', 205708, ' Some-college', 10, ' Married-civ-spouse', ' Craft-repair', ' Husband', ' White', ' Male', 0, 0, 40, ' Poland', ' <=50K'), (27588, 20, ' Private', 204641, ' Some-college', 10, ' Never-married', ' Other-service', ' Own-child', ' White', ' Male', 0, 0, 40, ' United-States', ' <=50K'), (19271, 31, ' Private', 117963, ' HS-grad', 9, ' Never-married', ' Handlers-cleaners', ' Not-in-family', ' White', ' Male', 0, 0, 60, ' United-States', ' <=50K')  ... displaying 10 of 3256 total bound parameter sets ...  (9182, 46, ' Private', 123598, ' Some-college', 10, ' Married-civ-spouse', ' Sales', ' Husband', ' White', ' Male', 0, 0, 48, ' United-States', ' >50K'), (535, 39, ' Local-gov', 207853, ' 12th', 8, ' Married-civ-spouse', ' Tech-support', ' Husband', ' White', ' Male', 0, 0, 50, ' United-States', ' <=50K'))\n",
      "2018-12-03 00:50:12,136 INFO sqlalchemy.engine.base.Engine COMMIT\n"
     ]
    }
   ],
   "source": [
    "engine = create_engine('sqlite:///:memory:', echo=True)\n",
    "adult_sample.to_sql('adult_sql', con=engine)"
   ]
  },
  {
   "cell_type": "code",
   "execution_count": 13,
   "metadata": {},
   "outputs": [],
   "source": [
    "q = \"\"\"\n",
    "    SELECT\n",
    "      avg(age)\n",
    "      ,min(age)\n",
    "      ,max(age)\n",
    "    FROM\n",
    "      adult_sql\n",
    "    WHERE\n",
    "      sex = ' Female'\n",
    "      AND workclass = ' Private'\n",
    "    GROUP BY\n",
    "      sex      \n",
    "    ;\n",
    "\"\"\""
   ]
  },
  {
   "cell_type": "code",
   "execution_count": 14,
   "metadata": {},
   "outputs": [
    {
     "name": "stdout",
     "output_type": "stream",
     "text": [
      "2018-12-03 00:57:52,848 INFO sqlalchemy.engine.base.Engine \n",
      "    SELECT\n",
      "      avg(age)\n",
      "      ,min(age)\n",
      "      ,max(age)\n",
      "    FROM\n",
      "      adult_sql\n",
      "    WHERE\n",
      "      sex = ' Female'\n",
      "      AND workclass = ' Private'\n",
      "    GROUP BY\n",
      "      sex      \n",
      "    ;\n",
      "\n",
      "2018-12-03 00:57:52,854 INFO sqlalchemy.engine.base.Engine ()\n"
     ]
    },
    {
     "data": {
      "text/plain": [
       "[(35.83879423328965, 17, 90)]"
      ]
     },
     "execution_count": 14,
     "metadata": {},
     "output_type": "execute_result"
    }
   ],
   "source": [
    "engine.execute(q).fetchall()"
   ]
  },
  {
   "cell_type": "code",
   "execution_count": 15,
   "metadata": {},
   "outputs": [],
   "source": [
    "q1 = \"\"\"\n",
    "    SELECT\n",
    "      sex\n",
    "      , workclass\n",
    "      , avg(\"hours-per-week\")\n",
    "    FROM\n",
    "      adult_sql\n",
    "    WHERE\n",
    "      sex = ' Male'\n",
    "      AND workclass = ' Private'\n",
    "    GROUP BY\n",
    "      sex      \n",
    "    ;\n",
    "\"\"\""
   ]
  },
  {
   "cell_type": "code",
   "execution_count": 16,
   "metadata": {},
   "outputs": [
    {
     "name": "stdout",
     "output_type": "stream",
     "text": [
      "2018-12-03 01:00:14,800 INFO sqlalchemy.engine.base.Engine \n",
      "    SELECT\n",
      "      sex\n",
      "      , workclass\n",
      "      , avg(\"hours-per-week\")\n",
      "    FROM\n",
      "      adult_sql\n",
      "    WHERE\n",
      "      sex = ' Male'\n",
      "      AND workclass = ' Private'\n",
      "    GROUP BY\n",
      "      sex      \n",
      "    ;\n",
      "\n",
      "2018-12-03 01:00:14,802 INFO sqlalchemy.engine.base.Engine ()\n"
     ]
    },
    {
     "data": {
      "text/plain": [
       "[(' Male', ' Private', 42.76355323318093)]"
      ]
     },
     "execution_count": 16,
     "metadata": {},
     "output_type": "execute_result"
    }
   ],
   "source": [
    "engine.execute(q1).fetchall()"
   ]
  }
 ],
 "metadata": {
  "kernelspec": {
   "display_name": "Python 3",
   "language": "python",
   "name": "python3"
  },
  "language_info": {
   "codemirror_mode": {
    "name": "ipython",
    "version": 3
   },
   "file_extension": ".py",
   "mimetype": "text/x-python",
   "name": "python",
   "nbconvert_exporter": "python",
   "pygments_lexer": "ipython3",
   "version": "3.6.5"
  }
 },
 "nbformat": 4,
 "nbformat_minor": 2
}
